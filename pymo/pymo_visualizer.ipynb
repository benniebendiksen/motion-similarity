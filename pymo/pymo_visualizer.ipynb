{
 "cells": [
  {
   "cell_type": "code",
   "execution_count": 8,
   "id": "0fd449c3",
   "metadata": {},
   "outputs": [
    {
     "ename": "ModuleNotFoundError",
     "evalue": "No module named 'pymo'",
     "output_type": "error",
     "traceback": [
      "\u001b[0;31m---------------------------------------------------------------------------\u001b[0m",
      "\u001b[0;31mModuleNotFoundError\u001b[0m                       Traceback (most recent call last)",
      "Cell \u001b[0;32mIn [8], line 2\u001b[0m\n\u001b[1;32m      1\u001b[0m \u001b[38;5;28;01mimport\u001b[39;00m \u001b[38;5;21;01mos\u001b[39;00m\n\u001b[0;32m----> 2\u001b[0m \u001b[38;5;28;01mfrom\u001b[39;00m \u001b[38;5;21;01mpymo\u001b[39;00m\u001b[38;5;21;01m.\u001b[39;00m\u001b[38;5;21;01mviz_tools\u001b[39;00m \u001b[38;5;28;01mimport\u001b[39;00m \u001b[38;5;241m*\u001b[39m\n\u001b[1;32m      3\u001b[0m \u001b[38;5;28mprint\u001b[39m(os\u001b[38;5;241m.\u001b[39mgetcwd())\n",
      "\u001b[0;31mModuleNotFoundError\u001b[0m: No module named 'pymo'"
     ]
    }
   ],
   "source": [
    "import os\n",
    "from pymo.viz_tools import *\n",
    "print(os.getcwd())\n",
    "\n",
    "\n",
    "\n"
   ]
  },
  {
   "cell_type": "code",
   "execution_count": 2,
   "id": "be78f184",
   "metadata": {},
   "outputs": [
    {
     "ename": "IndentationError",
     "evalue": "unexpected indent (2909698740.py, line 2)",
     "output_type": "error",
     "traceback": [
      "\u001b[0;36m  Cell \u001b[0;32mIn [2], line 2\u001b[0;36m\u001b[0m\n\u001b[0;31m    data_pipe = Pipeline([\u001b[0m\n\u001b[0m    ^\u001b[0m\n\u001b[0;31mIndentationError\u001b[0m\u001b[0;31m:\u001b[0m unexpected indent\n"
     ]
    }
   ],
   "source": [
    "parsed_data = parser.parse(conf.synthetic_data_folder + \"walking_0_1_1_-1.bvh\")\n",
    "    data_pipe = Pipeline([\n",
    "        ('param2', ConverterToRightHandedCoordinates()),\n",
    "        # ('param1', MocapParameterizer('expmap')),\n",
    "        # # ('rcpn', RootCentricPositionNormalizer()),\n",
    "        # ('delta', RootTransformer('absolute_translation_deltas')),\n",
    "        # ('const', ConstantsRemover()),\n",
    "        # ('np', Numpyfier()),\n",
    "        # ('down', DownSampler(4)),  # downsample to 30fps\n",
    "        # ('stdscale', ListStandardScaler())\n",
    "    ])\n",
    "    data = data_pipe.fit_transform([parsed_data])[0]\n",
    "    # # #\n",
    "    # inv_data = data_pipe._inverse_transform([data])[0]\n",
    "\n",
    "    # print_skel(parsed_data)\n",
    "    mp = MocapParameterizer('position')\n",
    "\n",
    "    # positions = mp.fit_transform([inv_data])[0]\n",
    "    positions = mp.fit_transform([data])[0]\n",
    "\n",
    "    # positions = mp.fit_transform([parsed_data])[0]\n",
    "\n",
    "    draw_stickfigure3d(positions, frame=1)\n",
    "    plt.show()\n",
    "    nb_play_mocap(positions, 'pos',\n",
    "                  scale=20, camera_z=800, frame_time=1 / 60,\n",
    "                  base_url='pymo/mocapplayer/playBuffer.html')"
   ]
  },
  {
   "cell_type": "code",
   "execution_count": null,
   "id": "3adf7f60",
   "metadata": {},
   "outputs": [],
   "source": []
  }
 ],
 "metadata": {
  "kernelspec": {
   "display_name": "Python [conda env:motion-similarity]",
   "language": "python",
   "name": "conda-env-motion-similarity-py"
  },
  "language_info": {
   "codemirror_mode": {
    "name": "ipython",
    "version": 3
   },
   "file_extension": ".py",
   "mimetype": "text/x-python",
   "name": "python",
   "nbconvert_exporter": "python",
   "pygments_lexer": "ipython3",
   "version": "3.10.5"
  }
 },
 "nbformat": 4,
 "nbformat_minor": 5
}
